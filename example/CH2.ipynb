{
 "cells": [
  {
   "cell_type": "code",
   "execution_count": null,
   "metadata": {},
   "outputs": [],
   "source": [
    "push!(LOAD_PATH, \"../src/\")\n",
    "\n",
    "using DataFrames\n",
    "using Molecules\n",
    "using Unitful\n",
    "using Netsuriki\n",
    "using CSV"
   ]
  },
  {
   "cell_type": "code",
   "execution_count": null,
   "metadata": {},
   "outputs": [],
   "source": [
    "CH2_geom = \"\"\"\n",
    "C                  0.00000000    0.00000000    0.10308800\n",
    "H                  0.00000000    0.99645900   -0.30926300\n",
    "H                  0.00000000   -0.99645900   -0.30926300\n",
    "\"\"\"\n",
    "CH2_mol = Molecule(CH2_geom, 0, 3)\n",
    "CH2_ν̃s = [1058.1217, 3125.2710, 3362.8179] .* 1.0u\"1/cm\";"
   ]
  },
  {
   "cell_type": "code",
   "execution_count": null,
   "metadata": {},
   "outputs": [],
   "source": [
    "# Electronic\n",
    "\n",
    "q_el = Electronic.q(CH2_mol)\n",
    "Am_el = Electronic.Am(q_el)\n",
    "Gm_el = Electronic.Gm(q_el)\n",
    "Um_el = Electronic.Um()\n",
    "Hm_el = Electronic.Hm()\n",
    "Sm_el = Electronic.Sm(q_el)\n",
    "CVm_el = Electronic.CVm()\n",
    "Cpm_el = Electronic.Cpm();"
   ]
  },
  {
   "cell_type": "code",
   "execution_count": null,
   "metadata": {},
   "outputs": [],
   "source": [
    "# Translational\n",
    "\n",
    "q_tr = Translational.q(CH2_mol)\n",
    "Am_tr = Translational.Am(q_tr)\n",
    "Gm_tr = Translational.Gm(q_tr)\n",
    "Um_tr = Translational.Um()\n",
    "Hm_tr = Translational.Hm()\n",
    "Sm_tr = Translational.Sm(q_tr)\n",
    "CVm_tr = Translational.CVm()\n",
    "Cpm_tr = Translational.Cpm();"
   ]
  },
  {
   "cell_type": "code",
   "execution_count": null,
   "metadata": {},
   "outputs": [],
   "source": [
    "# Rotational\n",
    "\n",
    "q_rot = Rotational.q(CH2_mol)\n",
    "Am_rot = Rotational.Am(q_rot)\n",
    "Gm_rot = Rotational.Gm(q_rot)\n",
    "Um_rot = Rotational.Um()\n",
    "Hm_rot = Rotational.Hm()\n",
    "Sm_rot = Rotational.Sm(q_rot)\n",
    "CVm_rot = Rotational.CVm()\n",
    "Cpm_rot = Rotational.Cpm();"
   ]
  },
  {
   "cell_type": "code",
   "execution_count": null,
   "metadata": {},
   "outputs": [],
   "source": [
    "# Vibrational\n",
    "\n",
    "q_vib = Vibrational.q(CH2_ν̃s)\n",
    "Am_vib = Vibrational.Am(q_vib)\n",
    "Gm_vib = Vibrational.Gm(q_vib)\n",
    "Um_vib = Vibrational.Um(CH2_ν̃s)\n",
    "Hm_vib = Vibrational.Hm(CH2_ν̃s)\n",
    "Sm_vib = Vibrational.Sm(CH2_ν̃s)\n",
    "CVm_vib = Vibrational.CVm(CH2_ν̃s)\n",
    "Cpm_vib = Vibrational.Cpm(CH2_ν̃s);"
   ]
  },
  {
   "cell_type": "code",
   "execution_count": null,
   "metadata": {},
   "outputs": [],
   "source": [
    "# Total\n",
    "\n",
    "q_tot = q_el * q_tr * q_rot * q_vib\n",
    "Am_tot = Am_el + Am_tr + Am_rot + Am_vib\n",
    "Gm_tot = Gm_el + Gm_tr + Gm_rot + Gm_vib\n",
    "Um_tot = Um_el + Um_tr + Um_rot + Um_vib\n",
    "Hm_tot = Hm_el + Hm_tr + Hm_rot + Hm_vib\n",
    "Sm_tot = Sm_el + Sm_tr + Sm_rot + Sm_vib\n",
    "CVm_tot = CVm_el + CVm_tr + CVm_rot + CVm_vib\n",
    "Cpm_tot = Cpm_el + Cpm_tr + Cpm_rot + Cpm_vib;"
   ]
  },
  {
   "cell_type": "code",
   "execution_count": null,
   "metadata": {},
   "outputs": [],
   "source": [
    "function thermo_J()\n",
    "    DataFrame(\n",
    "        Item = [\"Total\", \"Electronic\", \"Translational\", \"Rotational\", \"Vibrational\"],\n",
    "        Am = [Am_tot, Am_el, Am_tr, Am_rot, Am_vib],\n",
    "        Gm = [Gm_tot, Gm_el, Gm_tr, Gm_rot, Gm_vib],\n",
    "        Um = [Um_tot, Um_el, Um_tr, Um_rot, Um_vib],\n",
    "        Hm = [Hm_tot, Hm_el, Hm_tr, Hm_rot, Hm_vib],\n",
    "        Sm = [Sm_tot, Sm_el, Sm_tr, Sm_rot, Sm_vib],\n",
    "        CVm = [CVm_tot, CVm_el, CVm_tr, CVm_rot, CVm_vib],\n",
    "        Cpm = [Cpm_tot, Cpm_el, Cpm_tr, Cpm_rot, Cpm_vib]\n",
    "    )\n",
    "end\n",
    "\n",
    "CSV.write(\"CH2-thermo-J.csv\", thermo_J())\n",
    "@show thermo_J();"
   ]
  },
  {
   "cell_type": "code",
   "execution_count": null,
   "metadata": {},
   "outputs": [],
   "source": [
    "function thermo_cal()\n",
    "    df = thermo_J()\n",
    "    map([:Am, :Gm, :Um, :Hm]) do x\n",
    "        select!(df, :, x => (x -> x .|> u\"kcal/mol\") => x)\n",
    "    end\n",
    "    map([:Sm, :CVm, :Cpm]) do x\n",
    "        select!(df, :, x => (x -> x .|> u\"cal/mol/K\") => x)\n",
    "    end\n",
    "    df\n",
    "end\n",
    "\n",
    "CSV.write(\"CH2-thermo-cal.csv\", thermo_cal())\n",
    "@show thermo_cal();"
   ]
  },
  {
   "cell_type": "code",
   "execution_count": null,
   "metadata": {},
   "outputs": [],
   "source": [
    "@show thermo_cal()[:, [:Um, :CVm, :Sm]];"
   ]
  },
  {
   "cell_type": "code",
   "execution_count": null,
   "metadata": {},
   "outputs": [],
   "source": [
    "function partation_functions()\n",
    "    DataFrame(\n",
    "        Item = [\"Total (V=0)\", \"Vib (V=0)\", \"Electronic\", \"Translational\", \"Rotational\"],\n",
    "        Q = [q_tot / N_A, q_vib, q_el, q_tr / N_A, q_rot]\n",
    "    )\n",
    "end\n",
    "\n",
    "CSV.write(\"CH2-partation-functions.csv\", partation_functions())\n",
    "@show partation_functions();"
   ]
  }
 ],
 "metadata": {
  "kernelspec": {
   "display_name": "Julia 1.6.5",
   "language": "julia",
   "name": "julia-1.6"
  },
  "language_info": {
   "file_extension": ".jl",
   "mimetype": "application/julia",
   "name": "julia",
   "version": "1.6.5"
  },
  "orig_nbformat": 4
 },
 "nbformat": 4,
 "nbformat_minor": 2
}
