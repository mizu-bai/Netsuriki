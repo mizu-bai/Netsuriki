{
 "cells": [
  {
   "cell_type": "code",
   "execution_count": 1,
   "metadata": {},
   "outputs": [],
   "source": [
    "push!(LOAD_PATH, \"../src/\")\n",
    "\n",
    "using DataFrames\n",
    "using Molecules\n",
    "using Unitful\n",
    "using Netsuriki"
   ]
  },
  {
   "cell_type": "code",
   "execution_count": 2,
   "metadata": {},
   "outputs": [],
   "source": [
    "CH2_geom = \"\"\"\n",
    "C                  0.00000000    0.00000000    0.10308800\n",
    "H                  0.00000000    0.99645900   -0.30926300\n",
    "H                  0.00000000   -0.99645900   -0.30926300\n",
    "\"\"\"\n",
    "CH2_mol = Molecule(CH2_geom, 0, 3)\n",
    "CH2_ν̃s = [1058.1217, 3125.2710, 3362.8179] .* 1.0u\"1/cm\";"
   ]
  },
  {
   "cell_type": "code",
   "execution_count": 3,
   "metadata": {},
   "outputs": [],
   "source": [
    "# Electronic\n",
    "q_el   = Electronic.q(CH2_mol)\n",
    "Am_el  = Electronic.Am(q_el)\n",
    "Gm_el  = Electronic.Gm(q_el)\n",
    "Um_el  = Electronic.Um()\n",
    "Hm_el  = Electronic.Hm()\n",
    "Sm_el  = Electronic.Sm(q_el)\n",
    "CVm_el = Electronic.CVm()\n",
    "Cpm_el = Electronic.Cpm();"
   ]
  },
  {
   "cell_type": "code",
   "execution_count": 4,
   "metadata": {},
   "outputs": [],
   "source": [
    "# Translational\n",
    "q_tr   = Translational.q(CH2_mol)\n",
    "Am_tr  = Translational.Am(q_tr)\n",
    "Gm_tr  = Translational.Gm(q_tr)\n",
    "Um_tr  = Translational.Um()\n",
    "Hm_tr  = Translational.Hm()\n",
    "Sm_tr  = Translational.Sm(q_tr)\n",
    "CVm_tr = Translational.CVm()\n",
    "Cpm_tr = Translational.Cpm();"
   ]
  },
  {
   "cell_type": "code",
   "execution_count": 5,
   "metadata": {},
   "outputs": [],
   "source": [
    "# Rotational\n",
    "q_rot   = Rotational.q(CH2_mol)\n",
    "Am_rot  = Rotational.Am(q_rot)\n",
    "Gm_rot  = Rotational.Gm(q_rot)\n",
    "Um_rot  = Rotational.Um()\n",
    "Hm_rot  = Rotational.Hm()\n",
    "Sm_rot  = Rotational.Sm(q_rot)\n",
    "CVm_rot = Rotational.CVm()\n",
    "Cpm_rot = Rotational.Cpm();"
   ]
  },
  {
   "cell_type": "code",
   "execution_count": 6,
   "metadata": {},
   "outputs": [],
   "source": [
    "# Vibrational\n",
    "q_vib   = Vibrational.q(CH2_ν̃s)\n",
    "Am_vib  = Vibrational.Am(q_vib)\n",
    "Gm_vib  = Vibrational.Gm(q_vib)\n",
    "Um_vib  = Vibrational.Um(CH2_ν̃s)\n",
    "Hm_vib  = Vibrational.Hm(CH2_ν̃s)\n",
    "Sm_vib  = Vibrational.Sm(CH2_ν̃s)\n",
    "CVm_vib = Vibrational.CVm(CH2_ν̃s)\n",
    "Cpm_vib = Vibrational.Cpm(CH2_ν̃s);"
   ]
  },
  {
   "cell_type": "code",
   "execution_count": 7,
   "metadata": {},
   "outputs": [],
   "source": [
    "# Total\n",
    "q_tot   = q_el   * q_tr   * q_rot   * q_vib\n",
    "Am_tot  = Am_el  + Am_tr  + Am_rot  + Am_vib\n",
    "Gm_tot  = Gm_el  + Gm_tr  + Gm_rot  + Gm_vib\n",
    "Um_tot  = Um_el  + Um_tr  + Um_rot  + Um_vib\n",
    "Hm_tot  = Hm_el  + Hm_tr  + Hm_rot  + Hm_vib\n",
    "Sm_tot  = Sm_el  + Sm_tr  + Sm_rot  + Sm_vib\n",
    "CVm_tot = CVm_el + CVm_tr + CVm_rot + CVm_vib\n",
    "Cpm_tot = Cpm_el + Cpm_tr + Cpm_rot + Cpm_vib;"
   ]
  },
  {
   "cell_type": "code",
   "execution_count": 8,
   "metadata": {},
   "outputs": [
    {
     "name": "stdout",
     "output_type": "stream",
     "text": [
      "thermo_J() = 5×8 DataFrame\n",
      " Row │ Item           Am                Gm                Um               Hm               Sm                   CVm                  Cpm\n",
      "     │ String         Quantity…         Quantity…         Quantity…        Quantity…        Quantity…            Quantity…            Quantity…\n",
      "─────┼────────────────────────────────────────────────────────────────────────────────────────────────────────────────────────────────────────────────────\n",
      "   1 │ Total          -50663.8 J mol⁻¹  -48184.8 J mol⁻¹  52650.4 J mol⁻¹  55129.4 J mol⁻¹  195.129 J K⁻¹ mol⁻¹  26.2737 J K⁻¹ mol⁻¹  34.5882 J K⁻¹ mol⁻¹\n",
      "   2 │ Electronic     -2723.41 J mol⁻¹  -2723.41 J mol⁻¹      0.0 J mol⁻¹      0.0 J mol⁻¹  9.13437 J K⁻¹ mol⁻¹      0.0 J K⁻¹ mol⁻¹      0.0 J K⁻¹ mol⁻¹\n",
      "   3 │ Translational  -38524.5 J mol⁻¹  -36045.5 J mol⁻¹  3718.44 J mol⁻¹  6197.39 J mol⁻¹  141.683 J K⁻¹ mol⁻¹  12.4717 J K⁻¹ mol⁻¹  20.7862 J K⁻¹ mol⁻¹\n",
      "   4 │ Rotational     -9400.82 J mol⁻¹  -9400.82 J mol⁻¹  3718.44 J mol⁻¹  3718.44 J mol⁻¹  44.0022 J K⁻¹ mol⁻¹  12.4717 J K⁻¹ mol⁻¹  12.4717 J K⁻¹ mol⁻¹\n",
      "   5 │ Vibrational    -15.0674 J mol⁻¹  -15.0674 J mol⁻¹  45213.5 J mol⁻¹  45213.5 J mol⁻¹   0.3094 J K⁻¹ mol⁻¹  1.33034 J K⁻¹ mol⁻¹  1.33034 J K⁻¹ mol⁻¹\n"
     ]
    }
   ],
   "source": [
    "function thermo_J()\n",
    "    DataFrame(\n",
    "        Item = [\"Total\", \"Electronic\", \"Translational\", \"Rotational\", \"Vibrational\"],\n",
    "        Am   = [Am_tot,  Am_el,  Am_tr,  Am_rot,  Am_vib],\n",
    "        Gm   = [Gm_tot,  Gm_el,  Gm_tr,  Gm_rot,  Gm_vib],\n",
    "        Um   = [Um_tot,  Um_el,  Um_tr,  Um_rot,  Um_vib],\n",
    "        Hm   = [Hm_tot,  Hm_el,  Hm_tr,  Hm_rot,  Hm_vib],\n",
    "        Sm   = [Sm_tot,  Sm_el,  Sm_tr,  Sm_rot,  Sm_vib],\n",
    "        CVm  = [CVm_tot, CVm_el, CVm_tr, CVm_rot, CVm_vib],\n",
    "        Cpm  = [Cpm_tot, Cpm_el, Cpm_tr, Cpm_rot, Cpm_vib]\n",
    "    )\n",
    "end\n",
    "\n",
    "@show thermo_J();"
   ]
  },
  {
   "cell_type": "code",
   "execution_count": 9,
   "metadata": {},
   "outputs": [
    {
     "name": "stdout",
     "output_type": "stream",
     "text": [
      "thermo_cal() = 5×8 DataFrame\n",
      " Row │ Item           Am                     Gm                     Um                   Hm                   Sm                       CVm                    Cpm\n",
      "     │ String         Quantity…              Quantity…              Quantity…            Quantity…            Quantity…                Quantity…              Quantity…\n",
      "─────┼──────────────────────────────────────────────────────────────────────────────────────────────────────────────────────────────────────────────────────────────────────────────\n",
      "   1 │ Total            -12.1089 kcal mol⁻¹    -11.5164 kcal mol⁻¹   12.5838 kcal mol⁻¹   13.1762 kcal mol⁻¹     46.637 cal K⁻¹ mol⁻¹  6.27957 cal K⁻¹ mol⁻¹  8.26678 cal K⁻¹ mol⁻¹\n",
      "   2 │ Electronic      -0.650911 kcal mol⁻¹   -0.650911 kcal mol⁻¹       0.0 kcal mol⁻¹       0.0 kcal mol⁻¹    2.18317 cal K⁻¹ mol⁻¹      0.0 cal K⁻¹ mol⁻¹      0.0 cal K⁻¹ mol⁻¹\n",
      "   3 │ Translational    -9.20757 kcal mol⁻¹    -8.61509 kcal mol⁻¹  0.888727 kcal mol⁻¹   1.48121 kcal mol⁻¹    33.8631 cal K⁻¹ mol⁻¹  2.98081 cal K⁻¹ mol⁻¹  4.96801 cal K⁻¹ mol⁻¹\n",
      "   4 │ Rotational       -2.24685 kcal mol⁻¹    -2.24685 kcal mol⁻¹  0.888727 kcal mol⁻¹  0.888727 kcal mol⁻¹    10.5168 cal K⁻¹ mol⁻¹  2.98081 cal K⁻¹ mol⁻¹  2.98081 cal K⁻¹ mol⁻¹\n",
      "   5 │ Vibrational    -0.0036012 kcal mol⁻¹  -0.0036012 kcal mol⁻¹   10.8063 kcal mol⁻¹   10.8063 kcal mol⁻¹  0.0739484 cal K⁻¹ mol⁻¹  0.31796 cal K⁻¹ mol⁻¹  0.31796 cal K⁻¹ mol⁻¹\n"
     ]
    }
   ],
   "source": [
    "function thermo_cal()\n",
    "    df = thermo_J()\n",
    "    map([:Am, :Gm, :Um, :Hm]) do x\n",
    "        select!(df, :, x => (x -> x .|> u\"kcal/mol\") => x)\n",
    "    end\n",
    "    map([:Sm, :CVm, :Cpm]) do x\n",
    "        select!(df, :, x => (x -> x .|> u\"cal/mol/K\") => x)\n",
    "    end\n",
    "    df\n",
    "end\n",
    "\n",
    "@show thermo_cal();"
   ]
  },
  {
   "cell_type": "code",
   "execution_count": null,
   "metadata": {},
   "outputs": [],
   "source": []
  }
 ],
 "metadata": {
  "kernelspec": {
   "display_name": "Julia 1.6.5",
   "language": "julia",
   "name": "julia-1.6"
  },
  "language_info": {
   "file_extension": ".jl",
   "mimetype": "application/julia",
   "name": "julia",
   "version": "1.6.5"
  },
  "orig_nbformat": 4,
  "vscode": {
   "interpreter": {
    "hash": "25a19fbe0a9132dfb9279d48d161753c6352f8f9478c2e74383d340069b907c3"
   }
  }
 },
 "nbformat": 4,
 "nbformat_minor": 2
}
