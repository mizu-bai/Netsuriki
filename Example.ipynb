{
 "cells": [
  {
   "cell_type": "code",
   "execution_count": 1,
   "metadata": {},
   "outputs": [],
   "source": [
    "push!(LOAD_PATH, \"./\")\n",
    "\n",
    "using Molecules\n",
    "using Unitful\n",
    "using Netsuriki"
   ]
  },
  {
   "cell_type": "code",
   "execution_count": 2,
   "metadata": {},
   "outputs": [
    {
     "data": {
      "text/plain": [
       "3-element Vector{Quantity{Float64, 𝐋⁻¹, Unitful.FreeUnits{(cm⁻¹,), 𝐋⁻¹, nothing}}}:\n",
       "  522.49 cm⁻¹\n",
       " 1179.76 cm⁻¹\n",
       " 1377.06 cm⁻¹"
      ]
     },
     "metadata": {},
     "output_type": "display_data"
    }
   ],
   "source": [
    "SO2_mol = Molecule(Molecules.parse_file(\"SO2.inp\"))\n",
    "SO2_ν̃s = [522.49, 1179.76, 1377.06] .* 1.0u\"1/cm\""
   ]
  },
  {
   "cell_type": "code",
   "execution_count": 3,
   "metadata": {},
   "outputs": [
    {
     "name": "stdout",
     "output_type": "stream",
     "text": [
      "q_el = 1.0\n",
      "Am_el = -0.0 J mol⁻¹\n",
      "Gm_el = -0.0 J mol⁻¹\n",
      "Um_el = 0.0 J mol⁻¹\n",
      "Hm_el = 0.0 J mol⁻¹\n",
      "Sm_el = 0.0 J K⁻¹ mol⁻¹\n",
      "CVm_el = 0.0 J K⁻¹ mol⁻¹\n",
      "Cpm_el = 0.0 J K⁻¹ mol⁻¹\n",
      "\n"
     ]
    }
   ],
   "source": [
    "# Electronic Part\n",
    "\n",
    "q_el = Electronic.q(SO2_mol)\n",
    "Am_el = Electronic.Am(q_el)\n",
    "Gm_el = Electronic.Gm(q_el)\n",
    "Um_el = Electronic.Um()\n",
    "Hm_el = Electronic.Hm()\n",
    "Sm_el = Electronic.Sm(q_el)\n",
    "CVm_el = Electronic.CVm()\n",
    "Cpm_el = Electronic.Cpm()\n",
    "\n",
    "println(\"\"\"q_el = $(q_el)\n",
    "Am_el = $(Am_el)\n",
    "Gm_el = $(Gm_el)\n",
    "Um_el = $(Um_el)\n",
    "Hm_el = $(Hm_el)\n",
    "Sm_el = $(Sm_el)\n",
    "CVm_el = $(CVm_el)\n",
    "Cpm_el = $(Cpm_el)\n",
    "\"\"\")"
   ]
  },
  {
   "cell_type": "code",
   "execution_count": 4,
   "metadata": {},
   "outputs": [
    {
     "name": "stdout",
     "output_type": "stream",
     "text": [
      "q_tr = 1.2135703416533544e31\n",
      "Am_tr = -44172.051046983026 J mol⁻¹\n",
      "Gm_tr = -41693.09401738064 J mol⁻¹\n",
      "Um_tr = 3718.4355444035823 J mol⁻¹\n",
      "Hm_tr = 6197.392574005971 J mol⁻¹\n",
      "Sm_tr = 160.62547909235823 J K⁻¹ mol⁻¹\n",
      "CVm_tr = 12.47169392722986 J K⁻¹ mol⁻¹\n",
      "Cpm_tr = 20.7861565453831 J K⁻¹ mol⁻¹\n",
      "\n"
     ]
    }
   ],
   "source": [
    "# Translational Part\n",
    "\n",
    "q_tr = Translational.q(SO2_mol)\n",
    "Am_tr = Translational.Am(q_tr)\n",
    "Gm_tr = Translational.Gm(q_tr)\n",
    "Um_tr = Translational.Um()\n",
    "Hm_tr = Translational.Hm()\n",
    "Sm_tr = Translational.Sm(q_tr)\n",
    "CVm_tr = Translational.CVm()\n",
    "Cpm_tr = Translational.Cpm()\n",
    "\n",
    "println(\"\"\"q_tr = $(q_tr)\n",
    "Am_tr = $(Am_tr)\n",
    "Gm_tr = $(Gm_tr)\n",
    "Um_tr = $(Um_tr)\n",
    "Hm_tr = $(Hm_tr)\n",
    "Sm_tr = $(Sm_tr)\n",
    "CVm_tr = $(CVm_tr)\n",
    "Cpm_tr = $(Cpm_tr)\n",
    "\"\"\")"
   ]
  },
  {
   "cell_type": "code",
   "execution_count": 5,
   "metadata": {},
   "outputs": [
    {
     "name": "stdout",
     "output_type": "stream",
     "text": [
      "q_rot = 5947.39080047477\n",
      "Am_rot = -21543.891394898328 J mol⁻¹\n",
      "Gm_rot = -21543.891394898328 J mol⁻¹\n",
      "Um_rot = 3718.4355444035823 J mol⁻¹\n",
      "Hm_rot = 3718.4355444035823 J mol⁻¹\n",
      "Sm_rot = 84.73025973269131 J K⁻¹ mol⁻¹\n",
      "CVm_rot = 12.47169392722986 J K⁻¹ mol⁻¹\n",
      "Cpm_rot = 12.47169392722986 J K⁻¹ mol⁻¹\n",
      "\n"
     ]
    }
   ],
   "source": [
    "# Rotational Part\n",
    "\n",
    "q_rot = Rotational.q(SO2_mol)\n",
    "Am_rot = Rotational.Am(q_rot)\n",
    "Gm_rot = Rotational.Gm(q_rot)\n",
    "Um_rot = Rotational.Um()\n",
    "Hm_rot = Rotational.Hm()\n",
    "Sm_rot = Rotational.Sm(q_rot)\n",
    "CVm_rot = Rotational.CVm()\n",
    "Cpm_rot = Rotational.Cpm()\n",
    "\n",
    "println(\"\"\"q_rot = $(q_rot)\n",
    "Am_rot = $(Am_rot)\n",
    "Gm_rot = $(Gm_rot)\n",
    "Um_rot = $(Um_rot)\n",
    "Hm_rot = $(Hm_rot)\n",
    "Sm_rot = $(Sm_rot)\n",
    "CVm_rot = $(CVm_rot)\n",
    "Cpm_rot = $(Cpm_rot)\n",
    "\"\"\")"
   ]
  },
  {
   "cell_type": "code",
   "execution_count": 6,
   "metadata": {},
   "outputs": [
    {
     "name": "stdout",
     "output_type": "stream",
     "text": [
      "q_vib = 1.0924656366209078\n",
      "Am_vib = -219.23200275059335 J mol⁻¹\n",
      "Gm_vib = -219.23200275059335 J mol⁻¹\n",
      "Um_vib = 69134.03981086006 J mol⁻¹\n",
      "Hm_vib = 69134.03981086006 J mol⁻¹\n",
      "Sm_vib = 2.798850235624227 J K⁻¹ mol⁻¹\n",
      "CVm_vib = 6.41429445224973 J K⁻¹ mol⁻¹\n",
      "Cpm_vib = 6.41429445224973 J K⁻¹ mol⁻¹\n",
      "\n"
     ]
    }
   ],
   "source": [
    "# Vibrational Part\n",
    "\n",
    "q_vib = Vibrational.q(SO2_ν̃s)\n",
    "Am_vib = Vibrational.Am(q_vib)\n",
    "Gm_vib = Vibrational.Gm(q_vib)\n",
    "Um_vib = Vibrational.Um(SO2_ν̃s)\n",
    "Hm_vib = Vibrational.Hm(SO2_ν̃s)\n",
    "Sm_vib = Vibrational.Sm(SO2_ν̃s)\n",
    "CVm_vib = Vibrational.CVm(SO2_ν̃s)\n",
    "Cpm_vib = Vibrational.Cpm(SO2_ν̃s)\n",
    "\n",
    "println(\"\"\"q_vib = $(q_vib)\n",
    "Am_vib = $(Am_vib)\n",
    "Gm_vib = $(Gm_vib)\n",
    "Um_vib = $(Um_vib)\n",
    "Hm_vib = $(Hm_vib)\n",
    "Sm_vib = $(Sm_vib)\n",
    "CVm_vib = $(CVm_vib)\n",
    "Cpm_vib = $(Cpm_vib)\n",
    "\"\"\")"
   ]
  },
  {
   "cell_type": "code",
   "execution_count": 7,
   "metadata": {},
   "outputs": [
    {
     "name": "stdout",
     "output_type": "stream",
     "text": [
      "q_tot = 7.884954945765894e34\n",
      "Am_tot = -65935.17444463195 J mol⁻¹\n",
      "Gm_tot = -63456.21741502956 J mol⁻¹\n",
      "Um_tot = 76570.91089966723 J mol⁻¹\n",
      "Hm_tot = 79049.86792926962 J mol⁻¹\n",
      "Sm_tot = 248.15458906067377 J K⁻¹ mol⁻¹\n",
      "CVm_tot = 31.35768230670945 J K⁻¹ mol⁻¹\n",
      "Cpm_tot = 39.672144924862685 J K⁻¹ mol⁻¹\n",
      "\n"
     ]
    }
   ],
   "source": [
    "q_tot = q_el * q_tr * q_rot * q_vib\n",
    "Am_tot = Am_el + Am_tr + Am_rot + Am_vib\n",
    "Gm_tot = Gm_el + Gm_tr + Gm_rot + Gm_vib\n",
    "Um_tot = Um_el + Um_tr + Um_rot + Um_vib\n",
    "Hm_tot = Hm_el + Hm_tr + Hm_rot + Hm_vib\n",
    "Sm_tot = Sm_el + Sm_tr + Sm_rot + Sm_vib\n",
    "CVm_tot = CVm_el + CVm_tr + CVm_rot + CVm_vib\n",
    "Cpm_tot = Cpm_el + Cpm_tr + Cpm_rot + Cpm_vib\n",
    "\n",
    "println(\"\"\"q_tot = $(q_tot)\n",
    "Am_tot = $(Am_tot)\n",
    "Gm_tot = $(Gm_tot)\n",
    "Um_tot = $(Um_tot)\n",
    "Hm_tot = $(Hm_tot)\n",
    "Sm_tot = $(Sm_tot)\n",
    "CVm_tot = $(CVm_tot)\n",
    "Cpm_tot = $(Cpm_tot)\n",
    "\"\"\")"
   ]
  },
  {
   "cell_type": "code",
   "execution_count": null,
   "metadata": {},
   "outputs": [],
   "source": []
  }
 ],
 "metadata": {
  "kernelspec": {
   "display_name": "Julia 1.6.5",
   "language": "julia",
   "name": "julia-1.6"
  },
  "language_info": {
   "file_extension": ".jl",
   "mimetype": "application/julia",
   "name": "julia",
   "version": "1.6.5"
  },
  "orig_nbformat": 4
 },
 "nbformat": 4,
 "nbformat_minor": 2
}
